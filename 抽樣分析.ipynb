{
 "cells": [
  {
   "cell_type": "code",
   "execution_count": 14,
   "id": "initial_id",
   "metadata": {
    "ExecuteTime": {
     "end_time": "2024-10-17T15:49:33.135185Z",
     "start_time": "2024-10-17T15:49:32.940497Z"
    },
    "collapsed": true
   },
   "outputs": [],
   "source": [
    "import numpy as np\n",
    "from numpy import genfromtxt\n",
    "from scipy.ndimage import label\n",
    "\n",
    "my_data = genfromtxt('Normal_distribution_data.csv', delimiter=',')"
   ]
  },
  {
   "cell_type": "code",
   "execution_count": 15,
   "id": "34afdaf8223e77d5",
   "metadata": {
    "ExecuteTime": {
     "end_time": "2024-10-17T15:49:33.180374Z",
     "start_time": "2024-10-17T15:49:33.135185Z"
    }
   },
   "outputs": [
    {
     "data": {
      "text/plain": [
       "array([[15.37576206, 14.49387795, 15.60100563, 13.68114126, 15.26294666,\n",
       "        14.89295532, 14.45368346, 14.8562769 , 14.64470077, 14.80562892],\n",
       "       [15.32426756, 15.47016064, 15.60957284, 14.6469477 , 14.2092225 ,\n",
       "        14.77708626, 14.0352846 , 15.26741318, 14.96390718, 14.82119312],\n",
       "       [14.5099288 , 15.34477642, 14.13327986, 14.85027633, 14.31772646,\n",
       "        15.30171903, 14.35060302, 14.17359394, 14.6565074 , 15.95253833],\n",
       "       [15.06738992, 14.52879586, 15.65175204, 14.91954836, 15.62659806,\n",
       "        14.90773313, 15.26854289, 14.32359673, 15.53301204, 16.0373849 ],\n",
       "       [14.1614464 , 15.0696707 , 15.00082159, 15.36607137, 14.75254802,\n",
       "        16.70486438, 15.73310176, 14.58186887, 14.37733952, 15.18267906],\n",
       "       [14.87024815, 15.37081132, 14.34876136, 14.92070365, 14.59604788,\n",
       "        15.63688293, 14.52732391, 14.9774331 , 14.87009629, 15.14682958],\n",
       "       [15.29379566, 15.47754568, 15.33057969, 15.51671444, 14.55121444,\n",
       "        15.13011805, 15.85524599, 15.40155015, 13.58385198, 14.62557236],\n",
       "       [15.42820249, 14.74220879, 15.07476255, 14.65739306, 15.00730572,\n",
       "        15.81960588, 14.55458731, 13.77334387, 15.75065121, 15.38604823],\n",
       "       [13.66780424, 14.92099983, 15.03104715, 14.69398944, 16.15299653,\n",
       "        15.86619956, 16.20857951, 15.67824936, 14.40358293, 14.52808077],\n",
       "       [15.63626957, 15.18142799, 14.91595105, 15.8370561 , 14.51976515,\n",
       "        16.35699971, 15.7346708 , 14.75934746, 15.32553591, 14.35696393],\n",
       "       [15.00828089, 14.06937417, 14.39324258, 16.14216165, 15.82062794,\n",
       "        14.80665558, 14.65572864, 14.58180985, 14.88279479, 15.55979223],\n",
       "       [15.23824401, 14.62728634, 14.55958438, 15.06577759, 16.07294844,\n",
       "        14.15911613, 14.90943622, 15.42337848, 15.92335328, 14.88327451],\n",
       "       [16.2128924 , 15.21883292, 14.91899169, 15.57226002, 14.71893772,\n",
       "        15.10880831, 14.65261289, 14.85221235, 15.96900446, 14.75402319],\n",
       "       [15.5226074 , 15.30741586, 14.7522915 , 15.02742867, 15.45799764,\n",
       "        15.3173755 , 14.45663657, 15.13847784, 14.69210685, 13.84948834],\n",
       "       [14.1504777 , 14.3018569 , 15.67467034, 14.96388638, 15.68937944,\n",
       "        14.71076578, 15.27122894, 15.5400563 , 15.58042134, 14.69207552],\n",
       "       [14.9872142 , 15.93421031, 15.29802251, 15.8203251 , 14.31867234,\n",
       "        14.38453583, 14.66905866, 14.5533667 , 14.1708566 , 14.82135194],\n",
       "       [14.49868731, 16.02980414, 15.16709256, 15.87497437, 15.47328123,\n",
       "        15.34781369, 15.23005607, 14.95773513, 14.69010132, 14.74737233],\n",
       "       [14.46326223, 14.73907886, 14.55284626, 14.11426654, 15.73630593,\n",
       "        14.95197751, 14.77658574, 14.65618267, 15.03138169, 13.98004381],\n",
       "       [15.46295434, 14.87020819, 14.44087778, 14.18058912, 14.38248829,\n",
       "        14.59734757, 15.5405874 , 15.12780366, 15.58581241, 13.96208733],\n",
       "       [15.43756586, 13.95793176, 16.19568349, 15.49359924, 15.10245326,\n",
       "        15.27255704, 15.30018391, 15.34705586, 15.59353084, 14.74160828]])"
      ]
     },
     "execution_count": 15,
     "metadata": {},
     "output_type": "execute_result"
    }
   ],
   "source": [
    "my_data"
   ]
  },
  {
   "cell_type": "code",
   "execution_count": 16,
   "id": "d4d04136dc092382",
   "metadata": {
    "ExecuteTime": {
     "end_time": "2024-10-17T15:49:33.534649Z",
     "start_time": "2024-10-17T15:49:33.520586Z"
    }
   },
   "outputs": [
    {
     "data": {
      "text/plain": [
       "array([15.37576206, 14.49387795, 15.60100563, 13.68114126, 15.26294666,\n",
       "       14.89295532, 14.45368346, 14.8562769 , 14.64470077, 14.80562892,\n",
       "       15.32426756, 15.47016064, 15.60957284, 14.6469477 , 14.2092225 ,\n",
       "       14.77708626, 14.0352846 , 15.26741318, 14.96390718, 14.82119312,\n",
       "       14.5099288 , 15.34477642, 14.13327986, 14.85027633, 14.31772646,\n",
       "       15.30171903, 14.35060302, 14.17359394, 14.6565074 , 15.95253833,\n",
       "       15.06738992, 14.52879586, 15.65175204, 14.91954836, 15.62659806,\n",
       "       14.90773313, 15.26854289, 14.32359673, 15.53301204, 16.0373849 ,\n",
       "       14.1614464 , 15.0696707 , 15.00082159, 15.36607137, 14.75254802,\n",
       "       16.70486438, 15.73310176, 14.58186887, 14.37733952, 15.18267906,\n",
       "       14.87024815, 15.37081132, 14.34876136, 14.92070365, 14.59604788,\n",
       "       15.63688293, 14.52732391, 14.9774331 , 14.87009629, 15.14682958,\n",
       "       15.29379566, 15.47754568, 15.33057969, 15.51671444, 14.55121444,\n",
       "       15.13011805, 15.85524599, 15.40155015, 13.58385198, 14.62557236,\n",
       "       15.42820249, 14.74220879, 15.07476255, 14.65739306, 15.00730572,\n",
       "       15.81960588, 14.55458731, 13.77334387, 15.75065121, 15.38604823,\n",
       "       13.66780424, 14.92099983, 15.03104715, 14.69398944, 16.15299653,\n",
       "       15.86619956, 16.20857951, 15.67824936, 14.40358293, 14.52808077,\n",
       "       15.63626957, 15.18142799, 14.91595105, 15.8370561 , 14.51976515,\n",
       "       16.35699971, 15.7346708 , 14.75934746, 15.32553591, 14.35696393,\n",
       "       15.00828089, 14.06937417, 14.39324258, 16.14216165, 15.82062794,\n",
       "       14.80665558, 14.65572864, 14.58180985, 14.88279479, 15.55979223,\n",
       "       15.23824401, 14.62728634, 14.55958438, 15.06577759, 16.07294844,\n",
       "       14.15911613, 14.90943622, 15.42337848, 15.92335328, 14.88327451,\n",
       "       16.2128924 , 15.21883292, 14.91899169, 15.57226002, 14.71893772,\n",
       "       15.10880831, 14.65261289, 14.85221235, 15.96900446, 14.75402319,\n",
       "       15.5226074 , 15.30741586, 14.7522915 , 15.02742867, 15.45799764,\n",
       "       15.3173755 , 14.45663657, 15.13847784, 14.69210685, 13.84948834,\n",
       "       14.1504777 , 14.3018569 , 15.67467034, 14.96388638, 15.68937944,\n",
       "       14.71076578, 15.27122894, 15.5400563 , 15.58042134, 14.69207552,\n",
       "       14.9872142 , 15.93421031, 15.29802251, 15.8203251 , 14.31867234,\n",
       "       14.38453583, 14.66905866, 14.5533667 , 14.1708566 , 14.82135194,\n",
       "       14.49868731, 16.02980414, 15.16709256, 15.87497437, 15.47328123,\n",
       "       15.34781369, 15.23005607, 14.95773513, 14.69010132, 14.74737233,\n",
       "       14.46326223, 14.73907886, 14.55284626, 14.11426654, 15.73630593,\n",
       "       14.95197751, 14.77658574, 14.65618267, 15.03138169, 13.98004381,\n",
       "       15.46295434, 14.87020819, 14.44087778, 14.18058912, 14.38248829,\n",
       "       14.59734757, 15.5405874 , 15.12780366, 15.58581241, 13.96208733,\n",
       "       15.43756586, 13.95793176, 16.19568349, 15.49359924, 15.10245326,\n",
       "       15.27255704, 15.30018391, 15.34705586, 15.59353084, 14.74160828])"
      ]
     },
     "execution_count": 16,
     "metadata": {},
     "output_type": "execute_result"
    }
   ],
   "source": [
    "ungrouped_data = my_data.flatten()\n",
    "ungrouped_data"
   ]
  },
  {
   "cell_type": "code",
   "execution_count": 17,
   "id": "abad8661c1e4fed1",
   "metadata": {
    "ExecuteTime": {
     "end_time": "2024-10-17T15:49:33.582178Z",
     "start_time": "2024-10-17T15:49:33.566402Z"
    }
   },
   "outputs": [
    {
     "data": {
      "text/plain": [
       "200"
      ]
     },
     "execution_count": 17,
     "metadata": {},
     "output_type": "execute_result"
    }
   ],
   "source": [
    "len(ungrouped_data)"
   ]
  },
  {
   "cell_type": "code",
   "execution_count": 18,
   "id": "155ae120b36e5dc8",
   "metadata": {
    "ExecuteTime": {
     "end_time": "2024-10-17T15:49:33.640211Z",
     "start_time": "2024-10-17T15:49:33.629778Z"
    }
   },
   "outputs": [],
   "source": [
    "grouped_data = []\n",
    "for i in [1, 2, 4, 5, 10]:\n",
    "    grouped_data.append(my_data.reshape(len(ungrouped_data)//i, i))\n",
    "# grouped_data[0]\n"
   ]
  },
  {
   "cell_type": "code",
   "execution_count": 19,
   "id": "80072c36e2ccd9c9",
   "metadata": {
    "ExecuteTime": {
     "end_time": "2024-10-17T15:49:34.477099Z",
     "start_time": "2024-10-17T15:49:33.769214Z"
    }
   },
   "outputs": [],
   "source": [
    "from  sklearn.metrics import root_mean_squared_error\n",
    "import matplotlib.pyplot as plt\n",
    "\n",
    "avg_1 = np.average(grouped_data[0])\n",
    "avg_2 = np.average(grouped_data[1], axis=1, keepdims=True)\n",
    "avg_3 = np.average(grouped_data[2], axis=1, keepdims=True)\n",
    "avg_4 = np.average(grouped_data[3], axis=1, keepdims=True)\n",
    "avg_5 = np.average(grouped_data[4], axis=1, keepdims=True)\n",
    "\n",
    "logstd_dev = []\n",
    "logstd_dev.append(0)\n",
    "logstd_dev.append(np.log(np.std(avg_2, ddof=1)))\n",
    "logstd_dev.append(np.log(np.std(avg_3, ddof=1)))\n",
    "logstd_dev.append(np.log(np.std(avg_4, ddof=1)))\n",
    "logstd_dev.append(np.log(np.std(avg_5, ddof=1))) \n",
    "# \n",
    "# plt.plot(np.log([1, 2, 4, 5, 10]), log_std_dev)\n",
    "# plt.show()"
   ]
  },
  {
   "cell_type": "code",
   "execution_count": 20,
   "id": "40cba264",
   "metadata": {},
   "outputs": [
    {
     "data": {
      "text/plain": [
       "array([[14.93482   ],\n",
       "       [14.64107344],\n",
       "       [15.07795099],\n",
       "       [14.65498018],\n",
       "       [14.72516485],\n",
       "       [15.3972141 ],\n",
       "       [15.12826027],\n",
       "       [14.49315438],\n",
       "       [14.65134889],\n",
       "       [14.89255015],\n",
       "       [14.92735261],\n",
       "       [14.4917781 ],\n",
       "       [14.80972274],\n",
       "       [14.26209848],\n",
       "       [15.30452286],\n",
       "       [14.79809289],\n",
       "       [15.2856502 ],\n",
       "       [15.26716559],\n",
       "       [14.79606981],\n",
       "       [15.78519847],\n",
       "       [14.61555855],\n",
       "       [15.18344648],\n",
       "       [15.7287062 ],\n",
       "       [15.15748531],\n",
       "       [14.78000929],\n",
       "       [15.12052973],\n",
       "       [14.6347325 ],\n",
       "       [15.1164654 ],\n",
       "       [14.7523785 ],\n",
       "       [15.00846294],\n",
       "       [15.38567067],\n",
       "       [15.42364707],\n",
       "       [14.84066625],\n",
       "       [15.62839807],\n",
       "       [14.10471217],\n",
       "       [15.08520564],\n",
       "       [14.8660778 ],\n",
       "       [15.4134558 ],\n",
       "       [14.16396559],\n",
       "       [15.56834972],\n",
       "       [14.29440204],\n",
       "       [14.86251829],\n",
       "       [16.00959805],\n",
       "       [15.94341444],\n",
       "       [14.46583185],\n",
       "       [15.40884878],\n",
       "       [15.37650358],\n",
       "       [15.43838243],\n",
       "       [15.24700913],\n",
       "       [14.84124992],\n",
       "       [14.53882753],\n",
       "       [15.26770211],\n",
       "       [15.31364176],\n",
       "       [14.61876924],\n",
       "       [15.22129351],\n",
       "       [14.93276518],\n",
       "       [14.81268099],\n",
       "       [15.11603228],\n",
       "       [15.16640735],\n",
       "       [15.4033139 ],\n",
       "       [15.71586266],\n",
       "       [15.24562586],\n",
       "       [14.91387302],\n",
       "       [14.75241262],\n",
       "       [15.36151382],\n",
       "       [15.41501163],\n",
       "       [14.88986009],\n",
       "       [15.38768657],\n",
       "       [14.79755721],\n",
       "       [14.2707976 ],\n",
       "       [14.2261673 ],\n",
       "       [15.31927836],\n",
       "       [15.20007261],\n",
       "       [15.40564262],\n",
       "       [15.13624843],\n",
       "       [15.46071226],\n",
       "       [15.55917381],\n",
       "       [14.35160409],\n",
       "       [14.61121268],\n",
       "       [14.49610427],\n",
       "       [15.26424572],\n",
       "       [15.52103347],\n",
       "       [15.41054746],\n",
       "       [15.0938956 ],\n",
       "       [14.71873683],\n",
       "       [14.60117054],\n",
       "       [14.3335564 ],\n",
       "       [15.34414172],\n",
       "       [14.71638421],\n",
       "       [14.50571275],\n",
       "       [15.16658126],\n",
       "       [14.31073345],\n",
       "       [14.48991793],\n",
       "       [15.33419553],\n",
       "       [14.77394987],\n",
       "       [14.69774881],\n",
       "       [15.84464137],\n",
       "       [15.18750515],\n",
       "       [15.32361988],\n",
       "       [15.16756956]])"
      ]
     },
     "execution_count": 20,
     "metadata": {},
     "output_type": "execute_result"
    }
   ],
   "source": [
    "avg_2"
   ]
  },
  {
   "cell_type": "code",
   "execution_count": null,
   "id": "1e1550e6",
   "metadata": {},
   "outputs": [],
   "source": []
  },
  {
   "cell_type": "code",
   "execution_count": 21,
   "id": "ca5514c662d45f05",
   "metadata": {
    "ExecuteTime": {
     "end_time": "2024-10-17T15:50:34.973178Z",
     "start_time": "2024-10-17T15:50:34.908839Z"
    }
   },
   "outputs": [
    {
     "data": {
      "image/png": "[encoded data removed]",
      "text/plain": [
       "<Figure size 640x480 with 1 Axes>"
      ]
     },
     "metadata": {},
     "output_type": "display_data"
    }
   ],
   "source": [
    "import matplotlib\n",
    "# matplotlib.rc('font', family='Microsoft JhengHei')\n",
    "plt.rcParams['text.usetex'] = True\n",
    "plt.plot(np.log10([1, 2, 3, 4, 10]), logstd_dev, 'bo-')\n",
    "plt.title(r' $ log\\sigma_{\\hat{\\mu_x}} vs\\ log{n}$')\n",
    "plt.xlabel(\"log(n)\")\n",
    "plt.ylabel(r'$log\\sigma_{\\hat{\\mu_x}}$')\n",
    "plt.grid(True)\n",
    "plt.savefig(\"1stpic.png\")\n",
    "plt.show()\n"
   ]
  },
  {
   "cell_type": "code",
   "execution_count": 22,
   "id": "16ffba36",
   "metadata": {},
   "outputs": [
    {
     "data": {
      "text/plain": [
       "array([0.        , 0.30103   , 0.47712125, 0.60205999, 1.        ])"
      ]
     },
     "execution_count": 22,
     "metadata": {},
     "output_type": "execute_result"
    }
   ],
   "source": [
    "np.log10([1, 2, 3, 4, 10])"
   ]
  }
 ],
 "metadata": {
  "kernelspec": {
   "display_name": "ml",
   "language": "python",
   "name": "python3"
  },
  "language_info": {
   "codemirror_mode": {
    "name": "ipython",
    "version": 3
   },
   "file_extension": ".py",
   "mimetype": "text/x-python",
   "name": "python",
   "nbconvert_exporter": "python",
   "pygments_lexer": "ipython3",
   "version": "3.9.18"
  }
 },
 "nbformat": 4,
 "nbformat_minor": 5
}
